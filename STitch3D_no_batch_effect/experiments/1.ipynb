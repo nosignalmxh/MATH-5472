{
 "cells": [
  {
   "cell_type": "markdown",
   "metadata": {},
   "source": [
    "# Run STitch3D on the adult mouse brain dataset\n",
    "\n"
   ]
  },
  {
   "cell_type": "markdown",
   "metadata": {},
   "source": [
    "In this tutorial, we show STitch3D’s analysis of the adult mouse brain dataset.\n",
    "\n",
    "The spatial transcriptomics mouse brain data are publicly available at https://www.ncbi.nlm.nih.gov/geo/query/acc.cgi?acc=GSE147747. The mouse brain dataset profiled by 10x Genomics Chromium platform is available at https://www.ebi.ac.uk/biostudies/arrayexpress/studies/E-MTAB-11115."
   ]
  },
  {
   "cell_type": "markdown",
   "metadata": {
    "vscode": {
     "languageId": "plaintext"
    }
   },
   "source": [
    "## Import packages"
   ]
  },
  {
   "cell_type": "code",
   "execution_count": null,
   "metadata": {},
   "outputs": [],
   "source": [
    "import pandas as pd\n",
    "import numpy as np\n",
    "import scanpy as sc\n",
    "import anndata as ad\n",
    "import os\n",
    "import sys\n",
    "\n",
    "import STitch3D\n",
    "\n",
    "import warnings\n",
    "warnings.filterwarnings(\"ignore\")\n",
    "\n",
    "os.environ[\"CUDA_VISIBLE_DEVICES\"] = \"0\""
   ]
  },
  {
   "cell_type": "markdown",
   "metadata": {},
   "source": [
    "## Preprocessing"
   ]
  },
  {
   "cell_type": "markdown",
   "metadata": {},
   "source": [
    "### Load datasets\n",
    "\n",
    "Load spatial transcriptomics datasets:"
   ]
  },
  {
   "cell_type": "code",
   "execution_count": null,
   "metadata": {},
   "outputs": [],
   "source": [
    "count = pd.read_csv(\"./data/GSE147747_expr_raw_counts_table.tsv\",\n",
    "                    sep=\"\\t\", index_col=0)\n",
    "\n",
    "meta = pd.read_csv(\"./data/GSE147747_meta_table.tsv\",\n",
    "                   sep=\"\\t\", index_col=0)\n",
    "\n",
    "adata_st_all = ad.AnnData(X = count.values)\n",
    "adata_st_all.obs.index = count.index\n",
    "adata_st_all.obs = meta.loc[adata_st_all.obs.index]\n",
    "adata_st_all.var.index = count.columns\n",
    "\n",
    "slice_use = ['01A', '02A', '03A', '04B', '05A', '06B', '07A', '08B', '09A', '10B',\n",
    " '11A', '12A', '13B', '14A', '15A', '16A', '17A', '18A', '19A', '20B',\n",
    " '21A', '22A', '23A', '24A', '25A', '26A', '27A', '28A', '29A', '30A',\n",
    " '31A', '32A', '33A', '34A', '35A',]\n",
    "\n",
    "meta_slice = pd.read_csv(\"./data/molecular-atlas-master/data/slicestable.tsv\",\n",
    "                        index_col=0, sep=\"\\t\")\n",
    "slice_AP = [float(meta_slice.loc[s]['AP']) * 1000 for s in slice_use]\n",
    "slice_dist_micron = [-(slice_AP[i+1] - slice_AP[i]) for i in range(len(slice_AP)-1)]\n",
    "\n",
    "adata_st_all = adata_st_all[[s in slice_use for s in adata_st_all.obs.section_index.values]]\n",
    "sc.pp.filter_cells(adata_st_all, min_genes=1)\n",
    "\n",
    "adata_st_all.obsm['spatial'] = np.concatenate((adata_st_all.obs['HE_X'].values.reshape(-1, 1),\n",
    "                                               adata_st_all.obs['HE_Y'].values.reshape(-1, 1)), axis=1)\n",
    "\n",
    "adata_st_list_raw = []\n",
    "\n",
    "for slice_id in sorted(set(adata_st_all.obs.section_index.values)):\n",
    "    adata_st_i = adata_st_all[adata_st_all.obs.section_index.values == slice_id]\n",
    "\n",
    "    array_col = np.array([np.float(loc.split(\"_\")[1].split(\"x\")[0]) for loc in adata_st_i.obs.index])\n",
    "    if slice_id == '01A':\n",
    "        array_col = array_col - 0.3\n",
    "    array_row = np.array([np.float(loc.split(\"_\")[1].split(\"x\")[1]) for loc in adata_st_i.obs.index])\n",
    "\n",
    "    adata_st_i.obs['array_col'] = np.round(array_col)\n",
    "    adata_st_i.obs['array_row'] = np.round(array_row)\n",
    "    adata_st_i.obsm['loc_use'] = np.concatenate((adata_st_i.obs['array_row'].values.reshape(-1, 1),\n",
    "                                                 adata_st_i.obs['array_col'].values.reshape(-1, 1)), axis=1)\n",
    "\n",
    "    adata_st_list_raw.append(adata_st_i.copy())\n",
    "\n",
    "for i in range(1, 6): # adjust spatial locations\n",
    "    adata_st_list_raw[i].obsm['loc_use'] = np.concatenate((adata_st_list_raw[i].obsm['loc_use'][:, 0].reshape(-1, 1),\n",
    "                                                           2*np.mean(adata_st_list_raw[i].obsm['loc_use'][:, 1])-adata_st_list_raw[i].obsm['loc_use'][:, 1].reshape(-1, 1)), axis=1)"
   ]
  },
  {
   "cell_type": "markdown",
   "metadata": {},
   "source": [
    "Load single-cell reference dataset:"
   ]
  },
  {
   "cell_type": "code",
   "execution_count": null,
   "metadata": {},
   "outputs": [],
   "source": [
    "adata_ref = ad.read_h5ad(\"./data/MouseBrain/all_cells_20200625.h5ad\")\n",
    "adata_ref.var.index = adata_ref.var[\"SYMBOL\"].astype(str)\n",
    "adata_ref.var_names_make_unique()\n",
    "labels = pd.read_csv(\"./data/MouseBrain/snRNA_annotation_astro_subtypes_refined59_20200823.csv\", index_col=0)\n",
    "\n",
    "labels = labels.reindex(index=adata_ref.obs_names)\n",
    "adata_ref.obs[labels.columns] = labels\n",
    "adata_ref = adata_ref[~adata_ref.obs['annotation_1'].isna(), :]\n",
    "adata_ref.obs['celltype'] = adata_ref.obs['annotation_1']"
   ]
  },
  {
   "cell_type": "markdown",
   "metadata": {},
   "source": [
    "## Alignment of ST tissue slices"
   ]
  },
  {
   "cell_type": "code",
   "execution_count": null,
   "metadata": {},
   "outputs": [],
   "source": [
    "adata_st_list = STitch3D.utils.align_spots(adata_st_list_raw,\n",
    "                                           data_type = \"ST\",\n",
    "                                           coor_key=\"loc_use\",\n",
    "                                           plot=True)"
   ]
  },
  {
   "cell_type": "markdown",
   "metadata": {},
   "source": [
    "### Selecting highly variable genes and building 3D spatial graph"
   ]
  },
  {
   "cell_type": "code",
   "execution_count": null,
   "metadata": {},
   "outputs": [],
   "source": [
    "adata_st, adata_basis = STitch3D.utils.preprocess(adata_st_list,\n",
    "                                                  adata_ref,\n",
    "                                                  sample_col=\"sample\",\n",
    "                                                  coor_key=\"loc_use\",\n",
    "                                                  slice_dist_micron=slice_dist_micron,\n",
    "                                                  c2c_dist=200.,\n",
    "                                                  n_hvg_group=500)"
   ]
  },
  {
   "cell_type": "markdown",
   "metadata": {},
   "source": [
    "## Running STitch3D model"
   ]
  },
  {
   "cell_type": "code",
   "execution_count": null,
   "metadata": {},
   "outputs": [],
   "source": [
    "\n",
    "model = STitch3D.model.Model(adata_st, adata_basis)\n",
    "\n",
    "model.train()"
   ]
  },
  {
   "cell_type": "code",
   "execution_count": null,
   "metadata": {},
   "outputs": [],
   "source": [
    "save_path = \"./results_mouse_brain\"\n",
    "\n",
    "result = model.eval(adata_st_list_raw, save=True, output_path=save_path)"
   ]
  }
 ],
 "metadata": {
  "language_info": {
   "name": "python"
  }
 },
 "nbformat": 4,
 "nbformat_minor": 2
}
